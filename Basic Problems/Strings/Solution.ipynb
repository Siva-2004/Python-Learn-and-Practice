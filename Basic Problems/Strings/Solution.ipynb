{
 "cells": [
  {
   "cell_type": "code",
   "execution_count": 2,
   "metadata": {},
   "outputs": [
    {
     "name": "stdout",
     "output_type": "stream",
     "text": [
      "Street 8\n",
      "Hyderabad\n",
      "India\n",
      "Street 8\n",
      "Hyderabad\n",
      "India\n"
     ]
    }
   ],
   "source": [
    "# EX-1\n",
    "street = \"Street 8\"\n",
    "city = \"Hyderabad\"\n",
    "country = \"India\"\n",
    "address = street+\"\\n\"+city+\"\\n\"+country\n",
    "also_address = f'{street}\\n{city}\\n{country}'\n",
    "print(address)\n",
    "print(also_address)"
   ]
  },
  {
   "cell_type": "code",
   "execution_count": 3,
   "metadata": {},
   "outputs": [
    {
     "name": "stdout",
     "output_type": "stream",
     "text": [
      "revolves\n",
      "sun\n"
     ]
    }
   ],
   "source": [
    "# EX-2\n",
    "\n",
    "input_string = \"Earth revolves around the sun\"\n",
    "print(input_string[6:14])\n",
    "print(input_string[-3:])"
   ]
  },
  {
   "cell_type": "code",
   "execution_count": 4,
   "metadata": {},
   "outputs": [
    {
     "name": "stdout",
     "output_type": "stream",
     "text": [
      "I eat 5 fruits and 3 vegetables every day.\n"
     ]
    }
   ],
   "source": [
    "# EX-3\n",
    "\n",
    "fruits = 5\n",
    "veggies = 3\n",
    "print(f'I eat {fruits} fruits and {veggies} vegetables every day.')"
   ]
  },
  {
   "cell_type": "code",
   "execution_count": 8,
   "metadata": {},
   "outputs": [
    {
     "name": "stdout",
     "output_type": "stream",
     "text": [
      "maine 10 samosa khaye\n"
     ]
    }
   ],
   "source": [
    "s = \"maine 200 banana khaye\"\n",
    "print(s.replace('200','10').replace('banana','samosa'))"
   ]
  }
 ],
 "metadata": {
  "kernelspec": {
   "display_name": "Python 3",
   "language": "python",
   "name": "python3"
  },
  "language_info": {
   "codemirror_mode": {
    "name": "ipython",
    "version": 3
   },
   "file_extension": ".py",
   "mimetype": "text/x-python",
   "name": "python",
   "nbconvert_exporter": "python",
   "pygments_lexer": "ipython3",
   "version": "3.12.4"
  }
 },
 "nbformat": 4,
 "nbformat_minor": 2
}

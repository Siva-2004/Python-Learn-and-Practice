{
 "cells": [
  {
   "cell_type": "code",
   "execution_count": 2,
   "metadata": {},
   "outputs": [
    {
     "name": "stdout",
     "output_type": "stream",
     "text": [
      "dhaka is in Bangladesh\n"
     ]
    }
   ],
   "source": [
    "# EX-1(a)\n",
    " \n",
    "india = [\"mumbai\",\"bangalore\",\"chennai\",\"delhi\"]\n",
    "pakistan = [\"lahore\",\"karachi\",\"islamabad\"]\n",
    "bangladesh = [\"dhaka\",\"khulna\",\"rangpur\"]\n",
    "\n",
    "city = input(\"Enter city name: \")\n",
    "\n",
    "if city in india:\n",
    "    print(f'{city} is in India')\n",
    "elif city in pakistan:\n",
    "    print(f'{city} is in Pakistan')\n",
    "elif city in bangladesh:\n",
    "    print(f'{city} is in Bangladesh')\n",
    "else:\n",
    "    print(\"No such city in available data\") "
   ]
  },
  {
   "cell_type": "code",
   "execution_count": 3,
   "metadata": {},
   "outputs": [
    {
     "name": "stdout",
     "output_type": "stream",
     "text": [
      "Both cities are in India\n"
     ]
    }
   ],
   "source": [
    "# EX-1(b)\n",
    " \n",
    "india = [\"mumbai\",\"bangalore\",\"chennai\",\"delhi\"]\n",
    "pakistan = [\"lahore\",\"karachi\",\"islamabad\"]\n",
    "bangladesh = [\"dhaka\",\"khulna\",\"rangpur\"]\n",
    "\n",
    "city1 = input(\"Enter first city name: \")\n",
    "city2 = input(\"Enter second city name: \")\n",
    "\n",
    "if city1 in india and city2 in india:\n",
    "    print(\"Both cities are in India\")\n",
    "    \n",
    "elif city1 in pakistan and city2 in pakistan:\n",
    "    print(\"Both cities are in Pakistan\")\n",
    "    \n",
    "elif city1 in bangladesh and city2 in bangladesh:\n",
    "    print(\"Both cities are in bangladesh\")\n",
    "    \n",
    "else:\n",
    "    print(\"The cities belong to different countries\")\n",
    "    \n"
   ]
  },
  {
   "cell_type": "code",
   "execution_count": 4,
   "metadata": {},
   "outputs": [
    {
     "name": "stdout",
     "output_type": "stream",
     "text": [
      "Normal level\n"
     ]
    }
   ],
   "source": [
    "# EX-2\n",
    "\n",
    "sugar_level = int(input(\"Enter sugar level: \"))\n",
    "if sugar_level < 80:\n",
    "    print(\"Low sugar level\")\n",
    "elif sugar_level > 100:\n",
    "    print(\"High sugar level\")\n",
    "else:\n",
    "    print(\"Normal level\")"
   ]
  }
 ],
 "metadata": {
  "kernelspec": {
   "display_name": "Python 3",
   "language": "python",
   "name": "python3"
  },
  "language_info": {
   "codemirror_mode": {
    "name": "ipython",
    "version": 3
   },
   "file_extension": ".py",
   "mimetype": "text/x-python",
   "name": "python",
   "nbconvert_exporter": "python",
   "pygments_lexer": "ipython3",
   "version": "3.12.4"
  }
 },
 "nbformat": 4,
 "nbformat_minor": 2
}

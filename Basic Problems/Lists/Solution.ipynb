{
 "cells": [
  {
   "cell_type": "code",
   "execution_count": 1,
   "metadata": {},
   "outputs": [
    {
     "name": "stdout",
     "output_type": "stream",
     "text": [
      "Feb expenses:  2350\n",
      "--------------------\n",
      "First quarter expense:  7150\n",
      "--------------------\n",
      "False\n",
      "--------------------\n",
      "[2200, 2350, 2600, 2130, 2190, 1980]\n",
      "--------------------\n",
      "[2200, 2350, 2600, 1930, 2190, 1980]\n"
     ]
    }
   ],
   "source": [
    "# EX-1\n",
    "\n",
    "expense_list = [2200,2350,2600,2130,2190]\n",
    "print(\"Feb expenses: \", expense_list[1])\n",
    "print(\"--------------------\")\n",
    "print(\"First quarter expense: \", expense_list[0]+expense_list[1]+expense_list[2])\n",
    "print(\"--------------------\")\n",
    "print(2000 in expense_list)\n",
    "print(\"--------------------\")\n",
    "expense_list.append(1980)\n",
    "print(expense_list)\n",
    "print(\"--------------------\")\n",
    "expense_list[3] -= 200\n",
    "print(expense_list)\n"
   ]
  },
  {
   "cell_type": "code",
   "execution_count": 11,
   "metadata": {},
   "outputs": [
    {
     "name": "stdout",
     "output_type": "stream",
     "text": [
      "5\n",
      "--------------------\n",
      "['spider man', 'thor', 'hulk', 'iron man', 'captain america', 'black panther']\n",
      "--------------------\n",
      "['spider man', 'thor', 'hulk', 'iron man', 'captain america']\n",
      "--------------------\n",
      "['spider man', 'thor', 'hulk', 'black panther', 'iron man', 'captain america']\n",
      "--------------------\n",
      "['spider man', 'doctor strange', 'black panther', 'iron man', 'captain america']\n",
      "--------------------\n",
      "['black panther', 'captain america', 'doctor strange', 'iron man', 'spider man']\n"
     ]
    }
   ],
   "source": [
    "# EX - 2\n",
    "\n",
    "heros = ['spider man','thor','hulk','iron man','captain america']\n",
    "print(len(heros))\n",
    "print(\"--------------------\")\n",
    "heros.append('black panther')\n",
    "print(heros)\n",
    "print(\"--------------------\")\n",
    "heros.remove('black panther')\n",
    "print(heros)\n",
    "print(\"--------------------\")\n",
    "heros.insert(3,'black panther')\n",
    "print(heros)\n",
    "print(\"--------------------\")\n",
    "heros[1:3] = ['doctor strange']\n",
    "print(heros)\n",
    "print(\"--------------------\")\n",
    "heros.sort()\n",
    "print(heros)\n"
   ]
  }
 ],
 "metadata": {
  "kernelspec": {
   "display_name": "Python 3",
   "language": "python",
   "name": "python3"
  },
  "language_info": {
   "codemirror_mode": {
    "name": "ipython",
    "version": 3
   },
   "file_extension": ".py",
   "mimetype": "text/x-python",
   "name": "python",
   "nbconvert_exporter": "python",
   "pygments_lexer": "ipython3",
   "version": "3.12.4"
  }
 },
 "nbformat": 4,
 "nbformat_minor": 2
}

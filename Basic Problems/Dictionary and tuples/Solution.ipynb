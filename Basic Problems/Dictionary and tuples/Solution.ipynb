{
 "cells": [
  {
   "cell_type": "markdown",
   "metadata": {},
   "source": [
    "## EX - 1"
   ]
  },
  {
   "cell_type": "code",
   "execution_count": 2,
   "metadata": {},
   "outputs": [
    {
     "name": "stdout",
     "output_type": "stream",
     "text": [
      "1. print \n",
      "2. add \n",
      "3. remove \n",
      "4. query \n",
      "Enter an operation\n",
      "{'China': 143, 'India': 136, 'USA': 32, 'Pakistan': 21}\n"
     ]
    }
   ],
   "source": [
    "population = {'China':143,'India':136,'USA':32,'Pakistan':21}\n",
    "\n",
    "def print_dict():\n",
    "    print(population)\n",
    "\n",
    "def add_record():\n",
    "    record = input(\"Enter a record: \")\n",
    "    if record in population:\n",
    "        print(\"Record already exists\")\n",
    "    else:\n",
    "        value = input(\"Enter the value: \")\n",
    "        population[record] = value\n",
    "\n",
    "def remove_record():\n",
    "    record = input(\"Enter a record: \")\n",
    "    if record not in population:\n",
    "        print(\"Such record does not exist\")\n",
    "    else:\n",
    "        population.pop(record)\n",
    "\n",
    "def process_query():\n",
    "    query = input(\"Enter the query: \")\n",
    "    if query in population:\n",
    "        print(population[query])\n",
    "    else:\n",
    "        print(\"No such element found\")\n",
    "        \n",
    "        \n",
    "print(\"1. print \\n2. add \\n3. remove \\n4. query \\nEnter an operation\")\n",
    "inp = input()\n",
    "if inp == 'print':\n",
    "    print_dict()\n",
    "elif inp == 'add':\n",
    "    add_record()\n",
    "elif inp == 'remove':\n",
    "    remove_record()\n",
    "elif inp == 'query':\n",
    "    process_query()\n",
    "else:\n",
    "    print(\"Enter proper operation to perform.\")"
   ]
  },
  {
   "cell_type": "markdown",
   "metadata": {},
   "source": [
    "## EX - 2"
   ]
  },
  {
   "cell_type": "code",
   "execution_count": 8,
   "metadata": {},
   "outputs": [
    {
     "name": "stdout",
     "output_type": "stream",
     "text": [
      "{'info': [600, 630, 620], 'ril': [1430, 1490, 1567], 'mtl': [234, 180, 160]}\n",
      "{'info': [600, 630, 620], 'ril': [1430, 1490, 1567], 'mtl': [234, 180, 160], 'rail': ['244']}\n",
      "{'info': [600, 630, 620], 'ril': [1430, 1490, 1567, '1342'], 'mtl': [234, 180, 160], 'rail': ['244']}\n"
     ]
    }
   ],
   "source": [
    "stocks = {'info':[600,630,620],'ril':[1430,1490,1567],'mtl':[234,180,160]}\n",
    "\n",
    "\n",
    "cont = 1\n",
    "while cont != 0:\n",
    "    inp = input(\"1.add\\n2.print\\nEnter the operation: \")\n",
    "    if inp == 'print':\n",
    "        print(stocks)\n",
    "    elif inp == 'add':\n",
    "        stock = input(\"Enter the stock: \")\n",
    "        price = input(\"Enter the price: \")\n",
    "        if stock in stocks:\n",
    "            stocks[stock].append(price)\n",
    "        else:\n",
    "            stocks[stock] = [price] \n",
    "    else:\n",
    "        print(\"Enter proper operation.\")\n",
    "    cont = int(input(\"Enter 0/1 to continue: \"))"
   ]
  },
  {
   "cell_type": "markdown",
   "metadata": {},
   "source": [
    "## EX - 3"
   ]
  },
  {
   "cell_type": "code",
   "execution_count": 11,
   "metadata": {},
   "outputs": [
    {
     "name": "stdout",
     "output_type": "stream",
     "text": [
      "78.53981633974483\n",
      "157.07963267948966\n",
      "10\n"
     ]
    }
   ],
   "source": [
    "import math\n",
    "def circle_calc(radius):\n",
    "    return math.pi*(radius**2), 2*math.pi*(radius**2) , 2*radius\n",
    "\n",
    "radius= float(input(\"Enter the radius:\"))\n",
    "\n",
    "area,perimeter,diameter = circle_calc(5)\n",
    "print(area)\n",
    "print(perimeter)\n",
    "print(diameter) "
   ]
  },
  {
   "cell_type": "code",
   "execution_count": null,
   "metadata": {},
   "outputs": [],
   "source": []
  }
 ],
 "metadata": {
  "kernelspec": {
   "display_name": "Python 3",
   "language": "python",
   "name": "python3"
  },
  "language_info": {
   "codemirror_mode": {
    "name": "ipython",
    "version": 3
   },
   "file_extension": ".py",
   "mimetype": "text/x-python",
   "name": "python",
   "nbconvert_exporter": "python",
   "pygments_lexer": "ipython3",
   "version": "3.12.4"
  }
 },
 "nbformat": 4,
 "nbformat_minor": 2
}

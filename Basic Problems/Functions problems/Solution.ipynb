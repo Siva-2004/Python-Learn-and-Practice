{
 "cells": [
  {
   "cell_type": "markdown",
   "metadata": {},
   "source": [
    "## EX - 1"
   ]
  },
  {
   "cell_type": "code",
   "execution_count": 1,
   "metadata": {},
   "outputs": [
    {
     "name": "stdout",
     "output_type": "stream",
     "text": [
      "21.0\n"
     ]
    }
   ],
   "source": [
    "def calculate_area(base,height):\n",
    "    return 1/2*base*height\n",
    "\n",
    "base = int(input(\"Enter the base: \"))\n",
    "height = int(input(\"Enter the height: \"))\n",
    "result = calculate_area(base,height)\n",
    "print(result)"
   ]
  },
  {
   "cell_type": "markdown",
   "metadata": {},
   "source": [
    "## EX - 2"
   ]
  },
  {
   "cell_type": "code",
   "execution_count": 7,
   "metadata": {},
   "outputs": [
    {
     "name": "stdout",
     "output_type": "stream",
     "text": [
      "triangle\n",
      "132.0\n",
      "rectangle\n",
      "264\n"
     ]
    }
   ],
   "source": [
    "def calculate_area(base,height,shape='triangle'):\n",
    "    print(shape)\n",
    "    if shape == 'triangle':\n",
    "        return 1/2*base*height\n",
    "    if shape == 'rectangle':\n",
    "        return base * height\n",
    "    \n",
    "base = 12\n",
    "height = 22\n",
    "result = calculate_area(base,height)\n",
    "print(result)\n",
    "result = calculate_area(base,height,\"rectangle\")\n",
    "print(result)"
   ]
  },
  {
   "cell_type": "markdown",
   "metadata": {},
   "source": [
    "## EX - 3"
   ]
  },
  {
   "cell_type": "code",
   "execution_count": 10,
   "metadata": {},
   "outputs": [
    {
     "name": "stdout",
     "output_type": "stream",
     "text": [
      "*\n",
      "**\n",
      "***\n",
      "****\n",
      "*****\n"
     ]
    }
   ],
   "source": [
    "def print_pattern(n):\n",
    "    for i in range(n):\n",
    "        for j in range(i+1):\n",
    "            print(\"*\",end=\"\")\n",
    "        print()\n",
    "        \n",
    "n = 5\n",
    "print_pattern(5)"
   ]
  }
 ],
 "metadata": {
  "kernelspec": {
   "display_name": "Python 3",
   "language": "python",
   "name": "python3"
  },
  "language_info": {
   "codemirror_mode": {
    "name": "ipython",
    "version": 3
   },
   "file_extension": ".py",
   "mimetype": "text/x-python",
   "name": "python",
   "nbconvert_exporter": "python",
   "pygments_lexer": "ipython3",
   "version": "3.12.4"
  }
 },
 "nbformat": 4,
 "nbformat_minor": 2
}

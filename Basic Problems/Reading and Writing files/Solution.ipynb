{
 "cells": [
  {
   "cell_type": "markdown",
   "metadata": {},
   "source": [
    "## EX - 1"
   ]
  },
  {
   "cell_type": "code",
   "execution_count": 10,
   "metadata": {},
   "outputs": [
    {
     "name": "stdout",
     "output_type": "stream",
     "text": [
      "Maximum frequency is 8\n",
      "I\n",
      "the\n"
     ]
    }
   ],
   "source": [
    "word_count = {}\n",
    "with open(\"poem.txt\",'r') as f:\n",
    "    for line in f:\n",
    "        words = line.split(\" \")\n",
    "        for word in words:\n",
    "            if word in word_count:\n",
    "                word_count[word] += 1\n",
    "            else:\n",
    "                word_count[word] = 1\n",
    "                \n",
    "max_count = max(list(word_count.values()))\n",
    "print(\"Maximum frequency is \"+ str(max_count))\n",
    "\n",
    "for freq in word_count:\n",
    "    if word_count[freq] == max_count:\n",
    "        print(freq)\n",
    "\n",
    "         "
   ]
  },
  {
   "cell_type": "markdown",
   "metadata": {},
   "source": [
    "## EX - 2"
   ]
  },
  {
   "cell_type": "code",
   "execution_count": 18,
   "metadata": {},
   "outputs": [],
   "source": [
    "records = []\n",
    "with open(\"stocks.csv\",'r')  as f:\n",
    "    for line in f:\n",
    "        record = line.split(\",\")\n",
    "        records.append(record)\n",
    "\n",
    "with open(\"output.csv\",'w') as f:\n",
    "    f.write('Company Name,PE Ratio,PB Ratio')\n",
    "    for i in range(1,len(records)):\n",
    "        f.write('\\n'+records[i][0]+','+str(int(records[i][1])/int(records[i][2]))+','+str(int(records[i][1])/int(records[i][3])))\n",
    "        \n",
    "        \n"
   ]
  }
 ],
 "metadata": {
  "kernelspec": {
   "display_name": "Python 3",
   "language": "python",
   "name": "python3"
  },
  "language_info": {
   "codemirror_mode": {
    "name": "ipython",
    "version": 3
   },
   "file_extension": ".py",
   "mimetype": "text/x-python",
   "name": "python",
   "nbconvert_exporter": "python",
   "pygments_lexer": "ipython3",
   "version": "3.12.4"
  }
 },
 "nbformat": 4,
 "nbformat_minor": 2
}
